{
 "cells": [
  {
   "cell_type": "code",
   "execution_count": 1,
   "id": "2dc9a362",
   "metadata": {},
   "outputs": [],
   "source": [
    "import numpy as np\n",
    "import pandas as pd\n",
    "import re\n",
    "import requests\n",
    "from bs4 import BeautifulSoup"
   ]
  },
  {
   "cell_type": "code",
   "execution_count": 2,
   "id": "d5ede46c",
   "metadata": {},
   "outputs": [],
   "source": [
    "url = 'https://www.imdb.com/list/ls098063263/?sort=list_order,asc&st_dt=&mode=detail&page=1 '"
   ]
  },
  {
   "cell_type": "code",
   "execution_count": 3,
   "id": "5c00ed60",
   "metadata": {},
   "outputs": [],
   "source": [
    "page = requests.get(url)"
   ]
  },
  {
   "cell_type": "code",
   "execution_count": 4,
   "id": "64348c31",
   "metadata": {},
   "outputs": [
    {
     "data": {
      "text/plain": [
       "<Response [200]>"
      ]
     },
     "execution_count": 4,
     "metadata": {},
     "output_type": "execute_result"
    }
   ],
   "source": [
    "page"
   ]
  },
  {
   "cell_type": "code",
   "execution_count": 5,
   "id": "4169461e",
   "metadata": {},
   "outputs": [],
   "source": [
    "soup = BeautifulSoup(page.text)"
   ]
  },
  {
   "cell_type": "code",
   "execution_count": 6,
   "id": "14c710c0",
   "metadata": {},
   "outputs": [],
   "source": [
    "title = []\n",
    "for t in soup.find_all('h3',class_ = 'lister-item-header'):\n",
    "    text = t.text\n",
    "    regex_title = re.findall('\\d+\\.\\s([a-zA-Z0-9].+)',text)\n",
    "    if regex_title:\n",
    "        title.append(regex_title[0])\n",
    "    else:\n",
    "        title.append(np.nan)"
   ]
  },
  {
   "cell_type": "code",
   "execution_count": 7,
   "id": "1bce8119",
   "metadata": {},
   "outputs": [
    {
     "data": {
      "text/plain": [
       "100"
      ]
     },
     "execution_count": 7,
     "metadata": {},
     "output_type": "execute_result"
    }
   ],
   "source": [
    "len(title)"
   ]
  },
  {
   "cell_type": "code",
   "execution_count": 8,
   "id": "9d11fc71",
   "metadata": {},
   "outputs": [],
   "source": [
    "year = []\n",
    "for y in soup.find_all('h3',class_ = 'lister-item-header'):\n",
    "    text = y.text\n",
    "    regex_year = re.findall('\\((\\d+)\\)',text)\n",
    "    if regex_year:\n",
    "        year.append(regex_year[0])\n",
    "    else:\n",
    "        year.append(np.nan)"
   ]
  },
  {
   "cell_type": "code",
   "execution_count": 9,
   "id": "4baad833",
   "metadata": {},
   "outputs": [
    {
     "data": {
      "text/plain": [
       "100"
      ]
     },
     "execution_count": 9,
     "metadata": {},
     "output_type": "execute_result"
    }
   ],
   "source": [
    "len(year)"
   ]
  },
  {
   "cell_type": "code",
   "execution_count": 10,
   "id": "be32b24e",
   "metadata": {},
   "outputs": [],
   "source": [
    "certificate = []\n",
    "for c in soup.find_all('div',class_ = 'lister-item mode-detail'):\n",
    "    cer = c.find('span',class_ = 'certificate')\n",
    "    if cer:\n",
    "        certificate.append(cer.text)\n",
    "    else:\n",
    "        certificate.append(np.nan)"
   ]
  },
  {
   "cell_type": "code",
   "execution_count": 11,
   "id": "3e009490",
   "metadata": {},
   "outputs": [
    {
     "data": {
      "text/plain": [
       "100"
      ]
     },
     "execution_count": 11,
     "metadata": {},
     "output_type": "execute_result"
    }
   ],
   "source": [
    "len(certificate)"
   ]
  },
  {
   "cell_type": "code",
   "execution_count": 12,
   "id": "71a3eb77",
   "metadata": {},
   "outputs": [],
   "source": [
    "runtime = []\n",
    "for r in soup.find_all('div',class_ = 'lister-item mode-detail'):\n",
    "    time = r.find('span',class_ = 'runtime')\n",
    "    if time:\n",
    "        runtime.append(time.text)\n",
    "    else:\n",
    "        runtime.append(np.nan)"
   ]
  },
  {
   "cell_type": "code",
   "execution_count": 13,
   "id": "42b78fe5",
   "metadata": {},
   "outputs": [
    {
     "data": {
      "text/plain": [
       "100"
      ]
     },
     "execution_count": 13,
     "metadata": {},
     "output_type": "execute_result"
    }
   ],
   "source": [
    "len(runtime)"
   ]
  },
  {
   "cell_type": "code",
   "execution_count": 14,
   "id": "da667e55",
   "metadata": {},
   "outputs": [],
   "source": [
    "genre = []\n",
    "for g in soup.find_all('div',class_ = 'lister-item mode-detail'):\n",
    "    gen = g.find('span',class_ = 'genre').text\n",
    "    regex_genre = re.findall('\\w+',gen)\n",
    "    if regex_genre:\n",
    "        genre.append(regex_genre[0])\n",
    "    else:\n",
    "        genre.append(np.nan)"
   ]
  },
  {
   "cell_type": "code",
   "execution_count": 15,
   "id": "98eef016",
   "metadata": {},
   "outputs": [
    {
     "data": {
      "text/plain": [
       "100"
      ]
     },
     "execution_count": 15,
     "metadata": {},
     "output_type": "execute_result"
    }
   ],
   "source": [
    "len(genre)"
   ]
  },
  {
   "cell_type": "code",
   "execution_count": 16,
   "id": "0b4563c9",
   "metadata": {},
   "outputs": [],
   "source": [
    "rating = []\n",
    "for ra in soup.find_all('div',class_ = 'lister-item mode-detail'):\n",
    "    rate = ra.find('span',class_ = 'ipl-rating-star__rating')\n",
    "    if rate:\n",
    "        rating.append(rate.text)\n",
    "    else:\n",
    "        rating.append(np.nan)"
   ]
  },
  {
   "cell_type": "code",
   "execution_count": 17,
   "id": "d7becfe4",
   "metadata": {},
   "outputs": [
    {
     "data": {
      "text/plain": [
       "100"
      ]
     },
     "execution_count": 17,
     "metadata": {},
     "output_type": "execute_result"
    }
   ],
   "source": [
    "len(rating)"
   ]
  },
  {
   "cell_type": "code",
   "execution_count": 18,
   "id": "76b029f4",
   "metadata": {},
   "outputs": [],
   "source": [
    "metascore = []\n",
    "for m in soup.find_all('div',class_ = 'lister-item mode-detail'):\n",
    "    meta = m.find('div',class_ = 'inline-block ratings-metascore')\n",
    "    if meta:\n",
    "        regex_meta = re.findall('\\d+',meta.text)\n",
    "        metascore.append(regex_meta[0])\n",
    "    else:\n",
    "        metascore.append(np.nan)"
   ]
  },
  {
   "cell_type": "code",
   "execution_count": 19,
   "id": "caa7fa86",
   "metadata": {},
   "outputs": [
    {
     "data": {
      "text/plain": [
       "100"
      ]
     },
     "execution_count": 19,
     "metadata": {},
     "output_type": "execute_result"
    }
   ],
   "source": [
    "len(metascore)"
   ]
  },
  {
   "cell_type": "code",
   "execution_count": 20,
   "id": "b95502ca",
   "metadata": {},
   "outputs": [
    {
     "data": {
      "text/plain": [
       "'\\n\\n \\n \\n\\n\\n1.\\nAvatar\\n(2009)\\n\\n\\nUA\\n|\\n162 min\\n|\\n\\nAction, Adventure, Fantasy            \\n\\n\\n\\n\\n\\n\\n\\n\\n\\n\\n7.9\\n\\n\\n\\n\\n\\n\\n\\n\\n\\n\\n\\n\\n0\\n\\n\\n\\n\\n\\n\\n\\n\\nRate\\n\\n\\n\\n\\n\\n \\n\\n\\n\\n\\n\\n\\n\\n\\n\\n\\n\\n\\n\\n\\n\\n\\n1\\n\\n\\n\\n\\n\\n\\n\\n\\nRate\\n\\n\\n\\n\\n\\n\\n\\n\\n\\n\\n\\n2\\n\\n\\n\\n\\n\\n\\n\\n\\nRate\\n\\n\\n\\n\\n\\n\\n\\n\\n\\n\\n\\n3\\n\\n\\n\\n\\n\\n\\n\\n\\nRate\\n\\n\\n\\n\\n\\n\\n\\n\\n\\n\\n\\n4\\n\\n\\n\\n\\n\\n\\n\\n\\nRate\\n\\n\\n\\n\\n\\n\\n\\n\\n\\n\\n\\n5\\n\\n\\n\\n\\n\\n\\n\\n\\nRate\\n\\n\\n\\n\\n\\n\\n\\n\\n\\n\\n\\n6\\n\\n\\n\\n\\n\\n\\n\\n\\nRate\\n\\n\\n\\n\\n\\n\\n\\n\\n\\n\\n\\n7\\n\\n\\n\\n\\n\\n\\n\\n\\nRate\\n\\n\\n\\n\\n\\n\\n\\n\\n\\n\\n\\n8\\n\\n\\n\\n\\n\\n\\n\\n\\nRate\\n\\n\\n\\n\\n\\n\\n\\n\\n\\n\\n\\n9\\n\\n\\n\\n\\n\\n\\n\\n\\nRate\\n\\n\\n\\n\\n\\n\\n\\n\\n\\n\\n\\n10\\n\\n\\n\\n\\n\\n\\n\\n\\nRate\\n\\n\\n\\n\\n\\n\\n\\n\\n\\n\\n\\n\\n\\n\\n0\\n\\n\\nError: please try again.\\n\\n\\n\\n\\n\\n\\n\\n\\n83        \\n        Metascore\\n        \\n\\nA paraplegic Marine dispatched to the moon Pandora on a unique mission becomes torn between following his orders and protecting the world he feels is his home.\\n\\n    Director:\\nJames Cameron\\n| \\n    Stars:\\nSam Worthington, \\nZoe Saldana, \\nSigourney Weaver, \\nMichelle Rodriguez\\n\\n\\nVotes:\\n1,358,356\\n| Gross:\\n$760.51M\\n\\n\\n\\n\\nWorldwide Lifetime Gross: $2,923,706,026 '"
      ]
     },
     "execution_count": 20,
     "metadata": {},
     "output_type": "execute_result"
    }
   ],
   "source": [
    "soup.find('div',class_ = 'lister-item mode-detail').text"
   ]
  },
  {
   "cell_type": "code",
   "execution_count": 21,
   "id": "ea0cbe80",
   "metadata": {},
   "outputs": [],
   "source": [
    "director = []\n",
    "for d in soup.find_all('div',class_ = 'lister-item mode-detail'):\n",
    "    dire = d.text\n",
    "    regex_dire = re.findall('tors?:\\n(.+)',dire)\n",
    "    if regex_dire:\n",
    "        director.append(regex_dire[0])\n",
    "    else:\n",
    "        director.append(np.nan)"
   ]
  },
  {
   "cell_type": "code",
   "execution_count": 22,
   "id": "639a3d35",
   "metadata": {},
   "outputs": [
    {
     "data": {
      "text/plain": [
       "100"
      ]
     },
     "execution_count": 22,
     "metadata": {},
     "output_type": "execute_result"
    }
   ],
   "source": [
    "len(director)"
   ]
  },
  {
   "cell_type": "code",
   "execution_count": 23,
   "id": "e295d50a",
   "metadata": {},
   "outputs": [],
   "source": [
    "stars = []\n",
    "for s in soup.find_all('div',class_ = 'lister-item mode-detail'):\n",
    "    st = s.text\n",
    "    regex_st = re.findall('tars:\\n(.+)\\n',st)\n",
    "    if regex_st:\n",
    "        stars.append(regex_st[0])\n",
    "    else:\n",
    "        stars.append(np.nan)"
   ]
  },
  {
   "cell_type": "code",
   "execution_count": 24,
   "id": "f24d378b",
   "metadata": {},
   "outputs": [
    {
     "data": {
      "text/plain": [
       "100"
      ]
     },
     "execution_count": 24,
     "metadata": {},
     "output_type": "execute_result"
    }
   ],
   "source": [
    "len(stars)"
   ]
  },
  {
   "cell_type": "code",
   "execution_count": 25,
   "id": "1b90b9b4",
   "metadata": {},
   "outputs": [],
   "source": [
    "votes = []\n",
    "for v in soup.find_all('div',class_ = 'lister-item mode-detail'):\n",
    "    vote = v.text\n",
    "    regex_vote = re.findall('Votes:\\n(.+)\\n',vote)\n",
    "    if regex_vote:\n",
    "        votes.append(regex_vote[0])\n",
    "    else:\n",
    "        votes.append(np.nan)"
   ]
  },
  {
   "cell_type": "code",
   "execution_count": 26,
   "id": "ecd28f6a",
   "metadata": {},
   "outputs": [
    {
     "data": {
      "text/plain": [
       "100"
      ]
     },
     "execution_count": 26,
     "metadata": {},
     "output_type": "execute_result"
    }
   ],
   "source": [
    "len(votes)"
   ]
  },
  {
   "cell_type": "code",
   "execution_count": 27,
   "id": "e46d6c61",
   "metadata": {},
   "outputs": [],
   "source": [
    "gross = []\n",
    "for g in soup.find_all('div',class_ = 'lister-item mode-detail'):\n",
    "    gr = g.text\n",
    "    regex_gr = re.findall('e Gross:\\s\\$(.+)',gr)\n",
    "    if regex_gr:\n",
    "        gross.append(regex_gr[0])\n",
    "    else:\n",
    "        gross.append(np.nan)"
   ]
  },
  {
   "cell_type": "code",
   "execution_count": 28,
   "id": "a3090640",
   "metadata": {},
   "outputs": [
    {
     "data": {
      "text/plain": [
       "100"
      ]
     },
     "execution_count": 28,
     "metadata": {},
     "output_type": "execute_result"
    }
   ],
   "source": [
    "len(gross)"
   ]
  },
  {
   "cell_type": "code",
   "execution_count": 29,
   "id": "f2559d87",
   "metadata": {},
   "outputs": [],
   "source": [
    "dic = {'Title':title,\n",
    "      'Release_year':year,\n",
    "      'Certificate':certificate,\n",
    "      'Rating':rating,\n",
    "      'Runtime(min)':runtime,\n",
    "      'Genre':genre,\n",
    "      'Metascore':metascore,\n",
    "      'Director':director,\n",
    "      'Stars':stars,\n",
    "      'Votes':votes,\n",
    "      'Gross($)':gross}"
   ]
  },
  {
   "cell_type": "code",
   "execution_count": 30,
   "id": "46d4a338",
   "metadata": {},
   "outputs": [],
   "source": [
    "df = pd.DataFrame(dic)"
   ]
  },
  {
   "cell_type": "code",
   "execution_count": 31,
   "id": "631aa177",
   "metadata": {},
   "outputs": [
    {
     "data": {
      "text/html": [
       "<div>\n",
       "<style scoped>\n",
       "    .dataframe tbody tr th:only-of-type {\n",
       "        vertical-align: middle;\n",
       "    }\n",
       "\n",
       "    .dataframe tbody tr th {\n",
       "        vertical-align: top;\n",
       "    }\n",
       "\n",
       "    .dataframe thead th {\n",
       "        text-align: right;\n",
       "    }\n",
       "</style>\n",
       "<table border=\"1\" class=\"dataframe\">\n",
       "  <thead>\n",
       "    <tr style=\"text-align: right;\">\n",
       "      <th></th>\n",
       "      <th>Title</th>\n",
       "      <th>Release_year</th>\n",
       "      <th>Certificate</th>\n",
       "      <th>Rating</th>\n",
       "      <th>Runtime(min)</th>\n",
       "      <th>Genre</th>\n",
       "      <th>Metascore</th>\n",
       "      <th>Director</th>\n",
       "      <th>Stars</th>\n",
       "      <th>Votes</th>\n",
       "      <th>Gross($)</th>\n",
       "    </tr>\n",
       "  </thead>\n",
       "  <tbody>\n",
       "    <tr>\n",
       "      <th>0</th>\n",
       "      <td>Avatar</td>\n",
       "      <td>2009</td>\n",
       "      <td>UA</td>\n",
       "      <td>7.9</td>\n",
       "      <td>162 min</td>\n",
       "      <td>Action</td>\n",
       "      <td>83</td>\n",
       "      <td>James Cameron</td>\n",
       "      <td>Sam Worthington,</td>\n",
       "      <td>1,358,356</td>\n",
       "      <td>2,923,706,026</td>\n",
       "    </tr>\n",
       "    <tr>\n",
       "      <th>1</th>\n",
       "      <td>Avengers: Endgame</td>\n",
       "      <td>2019</td>\n",
       "      <td>UA</td>\n",
       "      <td>8.4</td>\n",
       "      <td>181 min</td>\n",
       "      <td>Action</td>\n",
       "      <td>78</td>\n",
       "      <td>Anthony Russo,</td>\n",
       "      <td>Robert Downey Jr.,</td>\n",
       "      <td>1,207,990</td>\n",
       "      <td>2,799,439,100</td>\n",
       "    </tr>\n",
       "    <tr>\n",
       "      <th>2</th>\n",
       "      <td>Avatar: The Way of Water</td>\n",
       "      <td>2022</td>\n",
       "      <td>UA</td>\n",
       "      <td>7.6</td>\n",
       "      <td>192 min</td>\n",
       "      <td>Action</td>\n",
       "      <td>67</td>\n",
       "      <td>James Cameron</td>\n",
       "      <td>Sam Worthington,</td>\n",
       "      <td>451,677</td>\n",
       "      <td>2,320,250,281</td>\n",
       "    </tr>\n",
       "    <tr>\n",
       "      <th>3</th>\n",
       "      <td>Titanic</td>\n",
       "      <td>1997</td>\n",
       "      <td>UA</td>\n",
       "      <td>7.9</td>\n",
       "      <td>194 min</td>\n",
       "      <td>Drama</td>\n",
       "      <td>75</td>\n",
       "      <td>James Cameron</td>\n",
       "      <td>Leonardo DiCaprio,</td>\n",
       "      <td>1,243,170</td>\n",
       "      <td>2,264,743,305</td>\n",
       "    </tr>\n",
       "    <tr>\n",
       "      <th>4</th>\n",
       "      <td>Star Wars: Episode VII - The Force Awakens</td>\n",
       "      <td>2015</td>\n",
       "      <td>U</td>\n",
       "      <td>7.8</td>\n",
       "      <td>138 min</td>\n",
       "      <td>Action</td>\n",
       "      <td>80</td>\n",
       "      <td>J.J. Abrams</td>\n",
       "      <td>Daisy Ridley,</td>\n",
       "      <td>954,671</td>\n",
       "      <td>2,071,310,218</td>\n",
       "    </tr>\n",
       "    <tr>\n",
       "      <th>...</th>\n",
       "      <td>...</td>\n",
       "      <td>...</td>\n",
       "      <td>...</td>\n",
       "      <td>...</td>\n",
       "      <td>...</td>\n",
       "      <td>...</td>\n",
       "      <td>...</td>\n",
       "      <td>...</td>\n",
       "      <td>...</td>\n",
       "      <td>...</td>\n",
       "      <td>...</td>\n",
       "    </tr>\n",
       "    <tr>\n",
       "      <th>95</th>\n",
       "      <td>Coco</td>\n",
       "      <td>2017</td>\n",
       "      <td>U</td>\n",
       "      <td>8.4</td>\n",
       "      <td>105 min</td>\n",
       "      <td>Animation</td>\n",
       "      <td>81</td>\n",
       "      <td>Lee Unkrich,</td>\n",
       "      <td>Anthony Gonzalez,</td>\n",
       "      <td>550,353</td>\n",
       "      <td>814,337,054</td>\n",
       "    </tr>\n",
       "    <tr>\n",
       "      <th>96</th>\n",
       "      <td>Fantastic Beasts and Where to Find Them</td>\n",
       "      <td>2016</td>\n",
       "      <td>UA</td>\n",
       "      <td>7.2</td>\n",
       "      <td>132 min</td>\n",
       "      <td>Adventure</td>\n",
       "      <td>66</td>\n",
       "      <td>David Yates</td>\n",
       "      <td>Eddie Redmayne,</td>\n",
       "      <td>493,347</td>\n",
       "      <td>814,044,001</td>\n",
       "    </tr>\n",
       "    <tr>\n",
       "      <th>97</th>\n",
       "      <td>Shrek the Third</td>\n",
       "      <td>2007</td>\n",
       "      <td>U</td>\n",
       "      <td>6.1</td>\n",
       "      <td>93 min</td>\n",
       "      <td>Animation</td>\n",
       "      <td>58</td>\n",
       "      <td>Chris Miller,</td>\n",
       "      <td>Mike Myers,</td>\n",
       "      <td>322,449</td>\n",
       "      <td>813,367,380</td>\n",
       "    </tr>\n",
       "    <tr>\n",
       "      <th>98</th>\n",
       "      <td>Jumanji: The Next Level</td>\n",
       "      <td>2019</td>\n",
       "      <td>UA</td>\n",
       "      <td>6.7</td>\n",
       "      <td>123 min</td>\n",
       "      <td>Action</td>\n",
       "      <td>58</td>\n",
       "      <td>Jake Kasdan</td>\n",
       "      <td>Dwayne Johnson,</td>\n",
       "      <td>268,958</td>\n",
       "      <td>801,693,929</td>\n",
       "    </tr>\n",
       "    <tr>\n",
       "      <th>99</th>\n",
       "      <td>Harry Potter and the Prisoner of Azkaban</td>\n",
       "      <td>2004</td>\n",
       "      <td>U</td>\n",
       "      <td>7.9</td>\n",
       "      <td>142 min</td>\n",
       "      <td>Adventure</td>\n",
       "      <td>82</td>\n",
       "      <td>Alfonso Cuarón</td>\n",
       "      <td>Daniel Radcliffe,</td>\n",
       "      <td>664,595</td>\n",
       "      <td>797,660,766</td>\n",
       "    </tr>\n",
       "  </tbody>\n",
       "</table>\n",
       "<p>100 rows × 11 columns</p>\n",
       "</div>"
      ],
      "text/plain": [
       "                                         Title Release_year Certificate  \\\n",
       "0                                       Avatar         2009          UA   \n",
       "1                            Avengers: Endgame         2019          UA   \n",
       "2                     Avatar: The Way of Water         2022          UA   \n",
       "3                                      Titanic         1997          UA   \n",
       "4   Star Wars: Episode VII - The Force Awakens         2015           U   \n",
       "..                                         ...          ...         ...   \n",
       "95                                        Coco         2017           U   \n",
       "96     Fantastic Beasts and Where to Find Them         2016          UA   \n",
       "97                             Shrek the Third         2007           U   \n",
       "98                     Jumanji: The Next Level         2019          UA   \n",
       "99    Harry Potter and the Prisoner of Azkaban         2004           U   \n",
       "\n",
       "   Rating Runtime(min)      Genre Metascore         Director  \\\n",
       "0     7.9      162 min     Action        83    James Cameron   \n",
       "1     8.4      181 min     Action        78  Anthony Russo,    \n",
       "2     7.6      192 min     Action        67    James Cameron   \n",
       "3     7.9      194 min      Drama        75    James Cameron   \n",
       "4     7.8      138 min     Action        80      J.J. Abrams   \n",
       "..    ...          ...        ...       ...              ...   \n",
       "95    8.4      105 min  Animation        81    Lee Unkrich,    \n",
       "96    7.2      132 min  Adventure        66      David Yates   \n",
       "97    6.1       93 min  Animation        58   Chris Miller,    \n",
       "98    6.7      123 min     Action        58      Jake Kasdan   \n",
       "99    7.9      142 min  Adventure        82   Alfonso Cuarón   \n",
       "\n",
       "                  Stars      Votes        Gross($)  \n",
       "0     Sam Worthington,   1,358,356  2,923,706,026   \n",
       "1   Robert Downey Jr.,   1,207,990  2,799,439,100   \n",
       "2     Sam Worthington,     451,677  2,320,250,281   \n",
       "3   Leonardo DiCaprio,   1,243,170  2,264,743,305   \n",
       "4        Daisy Ridley,     954,671  2,071,310,218   \n",
       "..                  ...        ...             ...  \n",
       "95   Anthony Gonzalez,     550,353    814,337,054   \n",
       "96     Eddie Redmayne,     493,347    814,044,001   \n",
       "97         Mike Myers,     322,449    813,367,380   \n",
       "98     Dwayne Johnson,     268,958    801,693,929   \n",
       "99   Daniel Radcliffe,     664,595    797,660,766   \n",
       "\n",
       "[100 rows x 11 columns]"
      ]
     },
     "execution_count": 31,
     "metadata": {},
     "output_type": "execute_result"
    }
   ],
   "source": [
    "df"
   ]
  },
  {
   "cell_type": "code",
   "execution_count": 32,
   "id": "2edf0cf9",
   "metadata": {},
   "outputs": [],
   "source": [
    "df.to_csv('MoviesDataset_page_1.csv',index = None)"
   ]
  }
 ],
 "metadata": {
  "kernelspec": {
   "display_name": "Python 3 (ipykernel)",
   "language": "python",
   "name": "python3"
  },
  "language_info": {
   "codemirror_mode": {
    "name": "ipython",
    "version": 3
   },
   "file_extension": ".py",
   "mimetype": "text/x-python",
   "name": "python",
   "nbconvert_exporter": "python",
   "pygments_lexer": "ipython3",
   "version": "3.10.9"
  }
 },
 "nbformat": 4,
 "nbformat_minor": 5
}
