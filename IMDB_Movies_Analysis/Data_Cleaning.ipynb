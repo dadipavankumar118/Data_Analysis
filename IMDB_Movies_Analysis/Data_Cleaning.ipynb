{
 "cells": [
  {
   "cell_type": "code",
   "execution_count": 1,
   "id": "604ecbd7",
   "metadata": {},
   "outputs": [],
   "source": [
    "import numpy as np\n",
    "import pandas as pd\n",
    "import seaborn as sns\n",
    "import matplotlib.pyplot as plt"
   ]
  },
  {
   "cell_type": "code",
   "execution_count": 2,
   "id": "111ac682",
   "metadata": {},
   "outputs": [],
   "source": [
    "df = pd.read_csv('MoviesDataset_Total.csv')"
   ]
  },
  {
   "cell_type": "code",
   "execution_count": 3,
   "id": "f55c5097",
   "metadata": {},
   "outputs": [
    {
     "data": {
      "text/html": [
       "<div>\n",
       "<style scoped>\n",
       "    .dataframe tbody tr th:only-of-type {\n",
       "        vertical-align: middle;\n",
       "    }\n",
       "\n",
       "    .dataframe tbody tr th {\n",
       "        vertical-align: top;\n",
       "    }\n",
       "\n",
       "    .dataframe thead th {\n",
       "        text-align: right;\n",
       "    }\n",
       "</style>\n",
       "<table border=\"1\" class=\"dataframe\">\n",
       "  <thead>\n",
       "    <tr style=\"text-align: right;\">\n",
       "      <th></th>\n",
       "      <th>Title</th>\n",
       "      <th>Release_year</th>\n",
       "      <th>Certificate</th>\n",
       "      <th>Rating</th>\n",
       "      <th>Runtime(min)</th>\n",
       "      <th>Genre</th>\n",
       "      <th>Metascore</th>\n",
       "      <th>Director</th>\n",
       "      <th>Stars</th>\n",
       "      <th>Votes</th>\n",
       "      <th>Gross($)</th>\n",
       "    </tr>\n",
       "  </thead>\n",
       "  <tbody>\n",
       "    <tr>\n",
       "      <th>0</th>\n",
       "      <td>Avatar</td>\n",
       "      <td>2009</td>\n",
       "      <td>UA</td>\n",
       "      <td>7.9</td>\n",
       "      <td>162 min</td>\n",
       "      <td>Action</td>\n",
       "      <td>83.0</td>\n",
       "      <td>James Cameron</td>\n",
       "      <td>Sam Worthington,</td>\n",
       "      <td>1,358,356</td>\n",
       "      <td>2,923,706,026</td>\n",
       "    </tr>\n",
       "    <tr>\n",
       "      <th>1</th>\n",
       "      <td>Avengers: Endgame</td>\n",
       "      <td>2019</td>\n",
       "      <td>UA</td>\n",
       "      <td>8.4</td>\n",
       "      <td>181 min</td>\n",
       "      <td>Action</td>\n",
       "      <td>78.0</td>\n",
       "      <td>Anthony Russo,</td>\n",
       "      <td>Robert Downey Jr.,</td>\n",
       "      <td>1,207,990</td>\n",
       "      <td>2,799,439,100</td>\n",
       "    </tr>\n",
       "    <tr>\n",
       "      <th>2</th>\n",
       "      <td>Avatar: The Way of Water</td>\n",
       "      <td>2022</td>\n",
       "      <td>UA</td>\n",
       "      <td>7.6</td>\n",
       "      <td>192 min</td>\n",
       "      <td>Action</td>\n",
       "      <td>67.0</td>\n",
       "      <td>James Cameron</td>\n",
       "      <td>Sam Worthington,</td>\n",
       "      <td>451,677</td>\n",
       "      <td>2,320,250,281</td>\n",
       "    </tr>\n",
       "    <tr>\n",
       "      <th>3</th>\n",
       "      <td>Titanic</td>\n",
       "      <td>1997</td>\n",
       "      <td>UA</td>\n",
       "      <td>7.9</td>\n",
       "      <td>194 min</td>\n",
       "      <td>Drama</td>\n",
       "      <td>75.0</td>\n",
       "      <td>James Cameron</td>\n",
       "      <td>Leonardo DiCaprio,</td>\n",
       "      <td>1,243,170</td>\n",
       "      <td>2,264,743,305</td>\n",
       "    </tr>\n",
       "    <tr>\n",
       "      <th>4</th>\n",
       "      <td>Star Wars: Episode VII - The Force Awakens</td>\n",
       "      <td>2015</td>\n",
       "      <td>U</td>\n",
       "      <td>7.8</td>\n",
       "      <td>138 min</td>\n",
       "      <td>Action</td>\n",
       "      <td>80.0</td>\n",
       "      <td>J.J. Abrams</td>\n",
       "      <td>Daisy Ridley,</td>\n",
       "      <td>954,671</td>\n",
       "      <td>2,071,310,218</td>\n",
       "    </tr>\n",
       "  </tbody>\n",
       "</table>\n",
       "</div>"
      ],
      "text/plain": [
       "                                        Title  Release_year Certificate  \\\n",
       "0                                      Avatar          2009          UA   \n",
       "1                           Avengers: Endgame          2019          UA   \n",
       "2                    Avatar: The Way of Water          2022          UA   \n",
       "3                                     Titanic          1997          UA   \n",
       "4  Star Wars: Episode VII - The Force Awakens          2015           U   \n",
       "\n",
       "   Rating Runtime(min)   Genre  Metascore         Director  \\\n",
       "0     7.9      162 min  Action       83.0    James Cameron   \n",
       "1     8.4      181 min  Action       78.0  Anthony Russo,    \n",
       "2     7.6      192 min  Action       67.0    James Cameron   \n",
       "3     7.9      194 min   Drama       75.0    James Cameron   \n",
       "4     7.8      138 min  Action       80.0      J.J. Abrams   \n",
       "\n",
       "                 Stars      Votes        Gross($)  \n",
       "0    Sam Worthington,   1,358,356  2,923,706,026   \n",
       "1  Robert Downey Jr.,   1,207,990  2,799,439,100   \n",
       "2    Sam Worthington,     451,677  2,320,250,281   \n",
       "3  Leonardo DiCaprio,   1,243,170  2,264,743,305   \n",
       "4       Daisy Ridley,     954,671  2,071,310,218   "
      ]
     },
     "execution_count": 3,
     "metadata": {},
     "output_type": "execute_result"
    }
   ],
   "source": [
    "df.head()"
   ]
  },
  {
   "cell_type": "code",
   "execution_count": 4,
   "id": "43a3a411",
   "metadata": {},
   "outputs": [
    {
     "name": "stdout",
     "output_type": "stream",
     "text": [
      "<class 'pandas.core.frame.DataFrame'>\n",
      "RangeIndex: 1000 entries, 0 to 999\n",
      "Data columns (total 11 columns):\n",
      " #   Column        Non-Null Count  Dtype  \n",
      "---  ------        --------------  -----  \n",
      " 0   Title         1000 non-null   object \n",
      " 1   Release_year  1000 non-null   int64  \n",
      " 2   Certificate   950 non-null    object \n",
      " 3   Rating        1000 non-null   float64\n",
      " 4   Runtime(min)  1000 non-null   object \n",
      " 5   Genre         1000 non-null   object \n",
      " 6   Metascore     962 non-null    float64\n",
      " 7   Director      1000 non-null   object \n",
      " 8   Stars         1000 non-null   object \n",
      " 9   Votes         1000 non-null   object \n",
      " 10  Gross($)      1000 non-null   object \n",
      "dtypes: float64(2), int64(1), object(8)\n",
      "memory usage: 86.1+ KB\n"
     ]
    }
   ],
   "source": [
    "df.info()"
   ]
  },
  {
   "cell_type": "code",
   "execution_count": 5,
   "id": "254f4ac7",
   "metadata": {},
   "outputs": [
    {
     "data": {
      "text/plain": [
       "Title            0\n",
       "Release_year     0\n",
       "Certificate     50\n",
       "Rating           0\n",
       "Runtime(min)     0\n",
       "Genre            0\n",
       "Metascore       38\n",
       "Director         0\n",
       "Stars            0\n",
       "Votes            0\n",
       "Gross($)         0\n",
       "dtype: int64"
      ]
     },
     "execution_count": 5,
     "metadata": {},
     "output_type": "execute_result"
    }
   ],
   "source": [
    "df.isnull().sum()"
   ]
  },
  {
   "cell_type": "code",
   "execution_count": 6,
   "id": "4d50c012",
   "metadata": {},
   "outputs": [],
   "source": [
    "df.dropna(how=\"any\",axis=0,inplace=True)"
   ]
  },
  {
   "cell_type": "code",
   "execution_count": 7,
   "id": "1c287a1a",
   "metadata": {},
   "outputs": [
    {
     "name": "stdout",
     "output_type": "stream",
     "text": [
      "<class 'pandas.core.frame.DataFrame'>\n",
      "Int64Index: 943 entries, 0 to 999\n",
      "Data columns (total 11 columns):\n",
      " #   Column        Non-Null Count  Dtype  \n",
      "---  ------        --------------  -----  \n",
      " 0   Title         943 non-null    object \n",
      " 1   Release_year  943 non-null    int64  \n",
      " 2   Certificate   943 non-null    object \n",
      " 3   Rating        943 non-null    float64\n",
      " 4   Runtime(min)  943 non-null    object \n",
      " 5   Genre         943 non-null    object \n",
      " 6   Metascore     943 non-null    float64\n",
      " 7   Director      943 non-null    object \n",
      " 8   Stars         943 non-null    object \n",
      " 9   Votes         943 non-null    object \n",
      " 10  Gross($)      943 non-null    object \n",
      "dtypes: float64(2), int64(1), object(8)\n",
      "memory usage: 88.4+ KB\n"
     ]
    }
   ],
   "source": [
    "df.info()"
   ]
  },
  {
   "cell_type": "code",
   "execution_count": 8,
   "id": "8036b864",
   "metadata": {},
   "outputs": [],
   "source": [
    "df['Runtime(min)'] = df['Runtime(min)'].replace(' min','',regex = True).astype(float)"
   ]
  },
  {
   "cell_type": "code",
   "execution_count": 9,
   "id": "a27a18cf",
   "metadata": {},
   "outputs": [],
   "source": [
    "df['Metascore'] = df['Metascore'].replace(',','',regex = True).astype(int)"
   ]
  },
  {
   "cell_type": "code",
   "execution_count": 10,
   "id": "8564dfd6",
   "metadata": {},
   "outputs": [],
   "source": [
    "df['Votes'] = df['Votes'].replace(',','',regex = True).astype(int)"
   ]
  },
  {
   "cell_type": "code",
   "execution_count": 11,
   "id": "9cb07615",
   "metadata": {},
   "outputs": [],
   "source": [
    "Gross = []\n",
    "for i in df[\"Gross($)\"]:\n",
    "    a = i.replace(\",\",\"\")\n",
    "    Gross.append(int(a))"
   ]
  },
  {
   "cell_type": "code",
   "execution_count": 12,
   "id": "75d0b62e",
   "metadata": {},
   "outputs": [],
   "source": [
    "df[\"Gross($)\"] = Gross"
   ]
  },
  {
   "cell_type": "code",
   "execution_count": 13,
   "id": "022812ca",
   "metadata": {},
   "outputs": [
    {
     "name": "stdout",
     "output_type": "stream",
     "text": [
      "<class 'pandas.core.frame.DataFrame'>\n",
      "Int64Index: 943 entries, 0 to 999\n",
      "Data columns (total 11 columns):\n",
      " #   Column        Non-Null Count  Dtype  \n",
      "---  ------        --------------  -----  \n",
      " 0   Title         943 non-null    object \n",
      " 1   Release_year  943 non-null    int64  \n",
      " 2   Certificate   943 non-null    object \n",
      " 3   Rating        943 non-null    float64\n",
      " 4   Runtime(min)  943 non-null    float64\n",
      " 5   Genre         943 non-null    object \n",
      " 6   Metascore     943 non-null    int32  \n",
      " 7   Director      943 non-null    object \n",
      " 8   Stars         943 non-null    object \n",
      " 9   Votes         943 non-null    int32  \n",
      " 10  Gross($)      943 non-null    int64  \n",
      "dtypes: float64(2), int32(2), int64(2), object(5)\n",
      "memory usage: 81.0+ KB\n"
     ]
    }
   ],
   "source": [
    "df.info()"
   ]
  },
  {
   "cell_type": "code",
   "execution_count": 14,
   "id": "80237b09",
   "metadata": {},
   "outputs": [
    {
     "data": {
      "text/html": [
       "<div>\n",
       "<style scoped>\n",
       "    .dataframe tbody tr th:only-of-type {\n",
       "        vertical-align: middle;\n",
       "    }\n",
       "\n",
       "    .dataframe tbody tr th {\n",
       "        vertical-align: top;\n",
       "    }\n",
       "\n",
       "    .dataframe thead th {\n",
       "        text-align: right;\n",
       "    }\n",
       "</style>\n",
       "<table border=\"1\" class=\"dataframe\">\n",
       "  <thead>\n",
       "    <tr style=\"text-align: right;\">\n",
       "      <th></th>\n",
       "      <th>Title</th>\n",
       "      <th>Release_year</th>\n",
       "      <th>Certificate</th>\n",
       "      <th>Rating</th>\n",
       "      <th>Runtime(min)</th>\n",
       "      <th>Genre</th>\n",
       "      <th>Metascore</th>\n",
       "      <th>Director</th>\n",
       "      <th>Stars</th>\n",
       "      <th>Votes</th>\n",
       "      <th>Gross($)</th>\n",
       "    </tr>\n",
       "  </thead>\n",
       "  <tbody>\n",
       "    <tr>\n",
       "      <th>0</th>\n",
       "      <td>Avatar</td>\n",
       "      <td>2009</td>\n",
       "      <td>UA</td>\n",
       "      <td>7.9</td>\n",
       "      <td>162.0</td>\n",
       "      <td>Action</td>\n",
       "      <td>83</td>\n",
       "      <td>James Cameron</td>\n",
       "      <td>Sam Worthington,</td>\n",
       "      <td>1358356</td>\n",
       "      <td>2923706026</td>\n",
       "    </tr>\n",
       "    <tr>\n",
       "      <th>1</th>\n",
       "      <td>Avengers: Endgame</td>\n",
       "      <td>2019</td>\n",
       "      <td>UA</td>\n",
       "      <td>8.4</td>\n",
       "      <td>181.0</td>\n",
       "      <td>Action</td>\n",
       "      <td>78</td>\n",
       "      <td>Anthony Russo,</td>\n",
       "      <td>Robert Downey Jr.,</td>\n",
       "      <td>1207990</td>\n",
       "      <td>2799439100</td>\n",
       "    </tr>\n",
       "    <tr>\n",
       "      <th>2</th>\n",
       "      <td>Avatar: The Way of Water</td>\n",
       "      <td>2022</td>\n",
       "      <td>UA</td>\n",
       "      <td>7.6</td>\n",
       "      <td>192.0</td>\n",
       "      <td>Action</td>\n",
       "      <td>67</td>\n",
       "      <td>James Cameron</td>\n",
       "      <td>Sam Worthington,</td>\n",
       "      <td>451677</td>\n",
       "      <td>2320250281</td>\n",
       "    </tr>\n",
       "    <tr>\n",
       "      <th>3</th>\n",
       "      <td>Titanic</td>\n",
       "      <td>1997</td>\n",
       "      <td>UA</td>\n",
       "      <td>7.9</td>\n",
       "      <td>194.0</td>\n",
       "      <td>Drama</td>\n",
       "      <td>75</td>\n",
       "      <td>James Cameron</td>\n",
       "      <td>Leonardo DiCaprio,</td>\n",
       "      <td>1243170</td>\n",
       "      <td>2264743305</td>\n",
       "    </tr>\n",
       "    <tr>\n",
       "      <th>4</th>\n",
       "      <td>Star Wars: Episode VII - The Force Awakens</td>\n",
       "      <td>2015</td>\n",
       "      <td>U</td>\n",
       "      <td>7.8</td>\n",
       "      <td>138.0</td>\n",
       "      <td>Action</td>\n",
       "      <td>80</td>\n",
       "      <td>J.J. Abrams</td>\n",
       "      <td>Daisy Ridley,</td>\n",
       "      <td>954671</td>\n",
       "      <td>2071310218</td>\n",
       "    </tr>\n",
       "  </tbody>\n",
       "</table>\n",
       "</div>"
      ],
      "text/plain": [
       "                                        Title  Release_year Certificate  \\\n",
       "0                                      Avatar          2009          UA   \n",
       "1                           Avengers: Endgame          2019          UA   \n",
       "2                    Avatar: The Way of Water          2022          UA   \n",
       "3                                     Titanic          1997          UA   \n",
       "4  Star Wars: Episode VII - The Force Awakens          2015           U   \n",
       "\n",
       "   Rating  Runtime(min)   Genre  Metascore         Director  \\\n",
       "0     7.9         162.0  Action         83    James Cameron   \n",
       "1     8.4         181.0  Action         78  Anthony Russo,    \n",
       "2     7.6         192.0  Action         67    James Cameron   \n",
       "3     7.9         194.0   Drama         75    James Cameron   \n",
       "4     7.8         138.0  Action         80      J.J. Abrams   \n",
       "\n",
       "                 Stars    Votes    Gross($)  \n",
       "0    Sam Worthington,   1358356  2923706026  \n",
       "1  Robert Downey Jr.,   1207990  2799439100  \n",
       "2    Sam Worthington,    451677  2320250281  \n",
       "3  Leonardo DiCaprio,   1243170  2264743305  \n",
       "4       Daisy Ridley,    954671  2071310218  "
      ]
     },
     "execution_count": 14,
     "metadata": {},
     "output_type": "execute_result"
    }
   ],
   "source": [
    "df.head()"
   ]
  },
  {
   "cell_type": "code",
   "execution_count": 15,
   "id": "d86a5fdf",
   "metadata": {},
   "outputs": [],
   "source": [
    "df.to_csv('AfterCleaning_MoviesDataset.csv',index = None)"
   ]
  }
 ],
 "metadata": {
  "kernelspec": {
   "display_name": "Python 3 (ipykernel)",
   "language": "python",
   "name": "python3"
  },
  "language_info": {
   "codemirror_mode": {
    "name": "ipython",
    "version": 3
   },
   "file_extension": ".py",
   "mimetype": "text/x-python",
   "name": "python",
   "nbconvert_exporter": "python",
   "pygments_lexer": "ipython3",
   "version": "3.10.9"
  }
 },
 "nbformat": 4,
 "nbformat_minor": 5
}
